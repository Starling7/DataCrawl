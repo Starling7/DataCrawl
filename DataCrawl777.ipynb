{
 "cells": [
  {
   "cell_type": "code",
   "execution_count": 30,
   "id": "8cd31a00",
   "metadata": {},
   "outputs": [
    {
     "name": "stdout",
     "output_type": "stream",
     "text": [
      "Data telah berhasil disimpan dalam file book_data.csv\n"
     ]
    }
   ],
   "source": [
    "import requests\n",
    "import csv\n",
    "from bs4 import BeautifulSoup\n",
    "\n",
    "def scrape_books():\n",
    "    # Mengirim permintaan GET ke URL\n",
    "    url = 'http://books.toscrape.com/'\n",
    "    response = requests.get(url)\n",
    "\n",
    "    # Membuat objek BeautifulSoup\n",
    "    soup = BeautifulSoup(response.text, 'html.parser')\n",
    "\n",
    "    # Menemukan semua elemen <article> yang mengandung informasi buku\n",
    "    articles = soup.find_all('article', class_='product_pod')\n",
    "\n",
    "    # Membuat daftar untuk menyimpan data buku\n",
    "    books_data = []\n",
    "\n",
    "    # Menelusuri setiap elemen artikel untuk mendapatkan nama dan harga buku\n",
    "    for article in articles:\n",
    "        book_title = article.find('h3').find('a')['title']\n",
    "        book_price = article.find('p', class_='price_color').text\n",
    "\n",
    "        # Menambahkan data buku ke daftar\n",
    "        books_data.append({'Title': book_title, 'Price': book_price})\n",
    "\n",
    "    return books_data\n",
    "\n",
    "def export_to_csv(data, filename):\n",
    "    # Menulis data ke file CSV\n",
    "    with open(filename, 'w', newline='', encoding='utf-8') as csvfile:\n",
    "        fieldnames = ['Title', 'Price']\n",
    "        writer = csv.DictWriter(csvfile, fieldnames=fieldnames)\n",
    "        writer.writeheader()\n",
    "        writer.writerows(data)\n",
    "\n",
    "def main():\n",
    "    # Melakukan scraping data buku\n",
    "    books_data = scrape_books()\n",
    "\n",
    "    # Menyimpan data dalam file CSV\n",
    "    filename = 'book_data.csv'\n",
    "    export_to_csv(books_data, filename)\n",
    "    print(f\"Data telah berhasil disimpan dalam file {filename}\")\n",
    "\n",
    "if __name__ == '__main__':\n",
    "    main()\n"
   ]
  },
  {
   "cell_type": "code",
   "execution_count": null,
   "id": "0d6c6863",
   "metadata": {},
   "outputs": [],
   "source": []
  }
 ],
 "metadata": {
  "kernelspec": {
   "display_name": "Python 3 (ipykernel)",
   "language": "python",
   "name": "python3"
  },
  "language_info": {
   "codemirror_mode": {
    "name": "ipython",
    "version": 3
   },
   "file_extension": ".py",
   "mimetype": "text/x-python",
   "name": "python",
   "nbconvert_exporter": "python",
   "pygments_lexer": "ipython3",
   "version": "3.10.9"
  }
 },
 "nbformat": 4,
 "nbformat_minor": 5
}
